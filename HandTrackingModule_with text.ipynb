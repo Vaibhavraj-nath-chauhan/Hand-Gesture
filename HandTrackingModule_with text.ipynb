{
 "cells": [
  {
   "cell_type": "code",
   "execution_count": null,
   "metadata": {},
   "outputs": [],
   "source": [
    "import cv2\n",
    "import mediapipe as mp\n",
    "import time\n",
    "class handDetector():\n",
    "    def __init__(self,mode=False, maxHands=2,detectionCon=.5,trackCon=.5):\n",
    "        #These are the papamter which we will pass to Hands() function \n",
    "        self.mode = mode\n",
    "        self.maxHands = maxHands\n",
    "        self.detectionCon = detectionCon\n",
    "        self.trackCon = trackCon\n",
    "        \n",
    "        self.mpHands = mp.solutions.hands\n",
    "        self.hands = self.mpHands.Hands(self.mode,self.maxHands,\n",
    "                                        self.detectionCon,self.trackCon)\n",
    "        self.mpDraw = mp.solutions.drawing_utils\n",
    "        \n",
    "    def findHands(self,img,draw=True):\n",
    "        imgBGR = cv2.cvtColor(img,cv2.COLOR_BGR2RGB)\n",
    "        self.results = self.hands.process(img)\n",
    "        if self.results.multi_hand_landmarks:\n",
    "            for handLms in self.results.multi_hand_landmarks:\n",
    "                if draw:\n",
    "                    self.mpDraw.draw_landmarks(img,handLms,\n",
    "                                               self.mpHands.HAND_CONNECTIONS)\n",
    "        return img\n",
    "    \n",
    "    def findPosition(self,img,handNo=0,draw=True):\n",
    "        lmList = []\n",
    "        if self.results.multi_hand_landmarks:\n",
    "            myHand = self.results.multi_hand_landmarks[handNo]\n",
    "            for id, lm in enumerate(myHand.landmark):\n",
    "                h,w,c = img.shape\n",
    "                cx,cy = int(w*lm.x), int(h*lm.y)\n",
    "                lmList.append([id,cx,cy])\n",
    "                if draw:\n",
    "                    cv2.circle(img,(cx,cy),15,(255,0,255),cv2.FILLED)\n",
    "        return lmList"
   ]
  },
  {
   "cell_type": "code",
   "execution_count": null,
   "metadata": {},
   "outputs": [],
   "source": [
    "def main():\n",
    "    cam = cv2.VideoCapture(0)\n",
    "    detector = handDetector()\n",
    "    while True:\n",
    "        _,img = cam.read()\n",
    "        img = detector.findHands(img)\n",
    "        lmList = detector.findPosition(img,draw=False)\n",
    "        if len(lmList)!=0:\n",
    "            print(lmList[1])\n",
    "        cv2.imshow(\"Image\",img)\n",
    "        if cv2.waitKey(1)==13:\n",
    "            break\n",
    "    cv2.destroyAllWindows()\n",
    "    cam.release()\n",
    "        \n",
    "if __name__ ==\"__main__\":\n",
    "    main()        "
   ]
  }
 ],
 "metadata": {
  "kernelspec": {
   "display_name": "Python 3",
   "language": "python",
   "name": "python3"
  },
  "language_info": {
   "codemirror_mode": {
    "name": "ipython",
    "version": 3
   },
   "file_extension": ".py",
   "mimetype": "text/x-python",
   "name": "python",
   "nbconvert_exporter": "python",
   "pygments_lexer": "ipython3",
   "version": "3.7.6"
  }
 },
 "nbformat": 4,
 "nbformat_minor": 4
}
