{
 "cells": [
  {
   "cell_type": "code",
   "execution_count": 1,
   "metadata": {},
   "outputs": [],
   "source": [
    "import cv2\n",
    "import time\n",
    "import os\n",
    "import HandTrackingModule as htm"
   ]
  },
  {
   "cell_type": "code",
   "execution_count": null,
   "metadata": {},
   "outputs": [],
   "source": [
    "wCam, hCam = 640,480\n",
    "cam = cv2.VideoCapture(0)\n",
    "cam.set(3,wCam)\n",
    "cam.set(4,hCam)\n",
    "folderPath = \"FingerImages\"\n",
    "myList = os.listdir(folderPath)\n",
    "overlayList =[]\n",
    "for imPath in myList:\n",
    "    image = cv2.imread(f'{folderPath}/{imPath}')\n",
    "    overlayList.append(image)\n",
    "\n",
    "detector = htm.handDetector(detectionCon=.75)\n",
    "tipIds = [4,8,12,16,20]\n",
    "while True:\n",
    "    _,img = cam.read()\n",
    "    img = detector.findHands(img)\n",
    "    lmList = detector.findPosition(img,draw = False)\n",
    "    if len(lmList)!=0:\n",
    "        fingers=[]\n",
    "        \n",
    "        if lmList[tipIds[0]][1] < lmList[tipIds[0]-1][1]:\n",
    "                fingers.append(1)\n",
    "        else:\n",
    "                fingers.append(0)\n",
    "        \n",
    "        \n",
    "        \n",
    "        for id in range(1,5):\n",
    "            if lmList[tipIds[id]][2] < lmList[tipIds[id]-2][2]:\n",
    "                fingers.append(1)\n",
    "            else:\n",
    "                fingers.append(0)\n",
    "        #print(fingers)\n",
    "        totalFingers = fingers.count(1)\n",
    "    \n",
    "        img[0:100,0:100] = overlayList[totalFingers-1]\n",
    "        cv2.rectangle(img,(0,225),(170,425),(0,255,0),cv2.FILLED)\n",
    "        cv2.putText(img,str(totalFingers),(25,375),cv2.FONT_HERSHEY_PLAIN,\n",
    "                   10,(255,0,0),25)\n",
    "    cv2.imshow(\"Image\",img)\n",
    "    if cv2.waitKey(1)==13:\n",
    "        break\n",
    "cv2.destroyAllWindows()\n",
    "cam.release()\n"
   ]
  },
  {
   "cell_type": "code",
   "execution_count": null,
   "metadata": {},
   "outputs": [],
   "source": []
  }
 ],
 "metadata": {
  "kernelspec": {
   "display_name": "Python 3",
   "language": "python",
   "name": "python3"
  },
  "language_info": {
   "codemirror_mode": {
    "name": "ipython",
    "version": 3
   },
   "file_extension": ".py",
   "mimetype": "text/x-python",
   "name": "python",
   "nbconvert_exporter": "python",
   "pygments_lexer": "ipython3",
   "version": "3.7.6"
  }
 },
 "nbformat": 4,
 "nbformat_minor": 4
}
