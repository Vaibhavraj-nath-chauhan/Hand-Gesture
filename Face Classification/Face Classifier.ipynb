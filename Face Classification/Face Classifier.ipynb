{
 "cells": [
  {
   "cell_type": "code",
   "execution_count": 1,
   "metadata": {},
   "outputs": [],
   "source": [
    "import mediapipe as mp\n",
    "import cv2\n",
    "import HandTrackingModule as htm\n",
    "import FaceDetectionModule as fdm\n",
    "import math\n",
    "import pyttsx3"
   ]
  },
  {
   "cell_type": "code",
   "execution_count": 2,
   "metadata": {},
   "outputs": [],
   "source": [
    "handDetector = htm.handDetector(detectionCon=0.7)\n",
    "faceDetector = fdm.FaceDetector(minDetectionConfidance=0.7)"
   ]
  },
  {
   "cell_type": "code",
   "execution_count": 3,
   "metadata": {},
   "outputs": [],
   "source": [
    "def detections(img,handLm,faceLm):\n",
    "    engine = pyttsx3.init()\n",
    "    if handLm and faceLm:\n",
    "        fx,fy = handLm[8][1],handLm[8][-1]\n",
    "        for id,i in enumerate(faceLm[-1][-1]):\n",
    "            h,w,c = img.shape\n",
    "            cx,cy = int(w*i.x), int(h*i.y)\n",
    "            if math.hypot(fx-cx,fy-cy) <15:\n",
    "                    img[0:100,0:100] = cv2.imread(\"TestImages/lips.png\")\n",
    "                    cv2.rectangle(img, (400-5,285-30), (400+70,285+10), (255, 0, 0),cv2.FILLED)\n",
    "                    cv2.putText(img, \"Lips\", (400, 285), cv2.FONT_HERSHEY_SIMPLEX, 1, \n",
    "                 (0, 0, 255),  2)\n",
    "                elif id == 2:\n",
    "                    img[0:100,0:100] = cv2.imread(\"TestImages/nose.png\")\n",
    "                    cv2.rectangle(img, (400-5,285-30), (400+70,285+10), (255, 0, 0),cv2.FILLED)\n",
    "                    cv2.putText(img, \"Nose\", (400, 285), cv2.FONT_HERSHEY_SIMPLEX, 1, \n",
    "                 (0, 0, 255),  2)\n",
    "                elif id == 4 or id==5:\n",
    "                    img[0:100,0:100] = cv2.imread(\"TestImages/ear.png\")\n",
    "                    cv2.rectangle(img, (400-5,285-30), (400+70,285+10), (255, 0, 0),cv2.FILLED)\n",
    "                    cv2.putText(img, \"Ear\", (400, 285), cv2.FONT_HERSHEY_SIMPLEX, 1, \n",
    "                 (0, 0, 255),  2)\n",
    "                elif id == 1 or id==0:\n",
    "                    img[0:100,0:100] = cv2.imread(\"TestImages/eye.png\")\n",
    "                    cv2.rectangle(img, (400-5,285-30), (400+70,285+10), (255, 0, 0),cv2.FILLED)\n",
    "                    cv2.putText(img, \"Eye\", (400, 285), cv2.FONT_HERSHEY_SIMPLEX, 1, \n",
    "                 (0, 0, 255),  2)\n",
    "    return img"
   ]
  },
  {
   "cell_type": "code",
   "execution_count": 5,
   "metadata": {},
   "outputs": [],
   "source": [
    "cam = cv2.VideoCapture(0)\n",
    "while True:\n",
    "    temp, img = cam.read()\n",
    "    if temp:\n",
    "        imgRGB = cv2.cvtColor(img,cv2.COLOR_BGR2RGB)\n",
    "        img = handDetector.findHands(imgRGB,draw=0)\n",
    "        handLm = handDetector.findPosition(img,draw=0)\n",
    "        img,faceLm = faceDetector.findFaces(img,draw=0)\n",
    "        img = detections(img,handLm,faceLm)\n",
    "        img =  cv2.cvtColor(img,cv2.COLOR_RGB2BGR)\n",
    "        cv2.imshow(\"Face Classifier\",img)\n",
    "        if cv2.waitKey(1)==13:\n",
    "            break\n",
    "cam.release()\n",
    "cv2.destroyAllWindows()"
   ]
  }
 ],
 "metadata": {
  "kernelspec": {
   "display_name": "Python 3",
   "language": "python",
   "name": "python3"
  },
  "language_info": {
   "codemirror_mode": {
    "name": "ipython",
    "version": 3
   },
   "file_extension": ".py",
   "mimetype": "text/x-python",
   "name": "python",
   "nbconvert_exporter": "python",
   "pygments_lexer": "ipython3",
   "version": "3.7.6"
  }
 },
 "nbformat": 4,
 "nbformat_minor": 4
}
