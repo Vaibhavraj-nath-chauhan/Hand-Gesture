{
 "cells": [
  {
   "cell_type": "code",
   "execution_count": null,
   "metadata": {},
   "outputs": [],
   "source": [
    "import cv2                                            #Library to open videocam\n",
    "import mediapipe as mp                                #for detection purpose (Main library)\n",
    "import time             \n",
    "mphand = mp.solutions.hands                           #Asking library to call hand gesture\n",
    "hands = mphand.Hands()                                #calling hand function --> There are 4 parameter to pass in Hands() but we are using bydefault\n",
    "mpDrwa = mp.solutions.drawing_utils                   #Now we are calling drawing section to drar point on out result image\n",
    "\n",
    "cam = cv2.VideoCapture(0)                             #Opening system camera\n",
    "while True:                                           #image loop\n",
    "    success , img  = cam.read()                       #fetching image \n",
    "    imageRGB = cv2.cvtColor(img,cv2.COLOR_BGR2RGB)    #converting to RGB because hands take only RGB images\n",
    "    result = hands.process(imageRGB)                  #passing our image to hands for detection\n",
    "    if result.multi_hand_landmarks:                   #fetching hands points from our output\n",
    "        for handLms in result.multi_hand_landmarks:   #for every hand we are looping\n",
    "            mpDrwa.draw_landmarks(img,handLms,mphand.HAND_CONNECTIONS)      #drawing landmarks on the image we want to show\n",
    "                                #Passing our image, landmakrs, and asking to make connecton to all poitns\n",
    "    cv2.imshow(\"Image\",img)                           #image show\n",
    "    if cv2.waitKey(1) ==13:                           #terminating loop\n",
    "        break\n",
    "    \n",
    "cv2.destroyAllWindows()                               #destroying all opedding windows \n",
    "cam.release()                                         #droping our cam"
   ]
  }
 ],
 "metadata": {
  "kernelspec": {
   "display_name": "Python 3",
   "language": "python",
   "name": "python3"
  },
  "language_info": {
   "codemirror_mode": {
    "name": "ipython",
    "version": 3
   },
   "file_extension": ".py",
   "mimetype": "text/x-python",
   "name": "python",
   "nbconvert_exporter": "python",
   "pygments_lexer": "ipython3",
   "version": "3.7.6"
  }
 },
 "nbformat": 4,
 "nbformat_minor": 4
}
