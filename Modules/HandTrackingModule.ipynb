{
 "cells": [
  {
   "cell_type": "code",
   "execution_count": null,
   "metadata": {},
   "outputs": [],
   "source": [
    "import cv2\n",
    "import mediapipe as mp\n",
    "import time\n",
    "class handDetector():                                                          #Creating a class\n",
    "    def __init__(self,mode=False, maxHands=2,detectionCon=.5,trackCon=.5):     #tacking input from user which are by default for Hands() function and we can update that\n",
    "        #These are the papamter which we will pass to Hands() function \n",
    "        self.mode = mode                                        \n",
    "        self.maxHands = maxHands\n",
    "        self.detectionCon = detectionCon\n",
    "        self.trackCon = trackCon\n",
    "        \n",
    "        self.mpHands = mp.solutions.hands                                      #Calling hands class\n",
    "        self.hands = self.mpHands.Hands(self.mode,self.maxHands,               #passing arguments taken of user if user passed\n",
    "                                        self.detectionCon,self.trackCon)\n",
    "        self.mpDraw = mp.solutions.drawing_utils                               #calling drawing function help to create landmarks\n",
    "                     \n",
    "    def findHands(self,img,draw=True):                                         #creating a function which will find landmarks and draw on our hands\n",
    "        imgBGR = cv2.cvtColor(img,cv2.COLOR_BGR2RGB)                           #converting img to RGB\n",
    "        self.results = self.hands.process(img)                                 #passing it to mediapipe for breakdown\n",
    "        if self.results.multi_hand_landmarks:                                  #checking if we got any result or not\n",
    "            for handLms in self.results.multi_hand_landmarks:                  #Drwaing landmarks on our hands\n",
    "                if draw:\n",
    "                    self.mpDraw.draw_landmarks(img,handLms,\n",
    "                                               self.mpHands.HAND_CONNECTIONS)\n",
    "        return img\n",
    "    \n",
    "    def findPosition(self,img,handNo=0,draw=True):                             #this functuon help to find perticualr hand and its  landmark position\n",
    "        lmList = []                        \n",
    "        if self.results.multi_hand_landmarks:                               \n",
    "            myHand = self.results.multi_hand_landmarks[handNo]                 #Fetching the hand list part as there can be mutiple hand and we can adjust for one hand\n",
    "            for id, lm in enumerate(myHand.landmark):                          #fetching perticular hand all landmakrs(21)\n",
    "                h,w,c = img.shape                                              #finding image sahpe to convert those decimel landmarks to image pixel\n",
    "                cx,cy = int(w*lm.x), int(h*lm.y)                               #converting it to image pixel points\n",
    "                lmList.append([id,cx,cy])                                      #creating a nested list where we are saving all the landmakrs of perticualr hand with there id\n",
    "                if draw:                                                       #Check drawing that its working or not\n",
    "                    cv2.circle(img,(cx,cy),15,(255,0,255),cv2.FILLED)\n",
    "        return lmList                                                          #Returing the filtered list"
   ]
  }
 ],
 "metadata": {
  "kernelspec": {
   "display_name": "Python 3",
   "language": "python",
   "name": "python3"
  },
  "language_info": {
   "codemirror_mode": {
    "name": "ipython",
    "version": 3
   },
   "file_extension": ".py",
   "mimetype": "text/x-python",
   "name": "python",
   "nbconvert_exporter": "python",
   "pygments_lexer": "ipython3",
   "version": "3.7.6"
  }
 },
 "nbformat": 4,
 "nbformat_minor": 4
}
