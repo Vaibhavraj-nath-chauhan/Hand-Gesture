{
 "cells": [
  {
   "cell_type": "code",
   "execution_count": null,
   "metadata": {},
   "outputs": [],
   "source": [
    "import cv2\n",
    "import mediapipe as mp\n",
    "class FaceDetector():\n",
    "    def __init__(self,minDetectionConfidance=.5):\n",
    "        self.minDetectionConfidance = minDetectionConfidance\n",
    "        self.mpFaceDetection = mp.solutions.face_detection\n",
    "        self.mpDraw = mp.solutions.drawing_utils\n",
    "        self.faceDetection = self.mpFaceDetection.FaceDetection(self.minDetectionConfidance)\n",
    "    def findFaces(self,img,draw=True):\n",
    "        imgRGB = cv2.cvtColor(img,cv2.COLOR_BGR2RGB)\n",
    "        self.results = self.faceDetection.process(imgRGB)\n",
    "        bboxs= []\n",
    "        if self.results.detections:\n",
    "            for id,detection in enumerate(self.results.detections):\n",
    "                h,w,c = img.shape\n",
    "                bboxC = detection.location_data.relative_bounding_box\n",
    "                bbox = int(bboxC.xmin*w),int(bboxC.ymin*h),int(bboxC.width*w),int(bboxC.height*h)\n",
    "                landmarks = detection.location_data.relative_keypoints\n",
    "                bboxs.append([id,bbox,detection.score,landmarks])\n",
    "                if draw:\n",
    "                    cv2.rectangle(img,bbox,(255,0,255),2)\n",
    "                    cv2.putText(img,f\"{int(detection.score[0]*100)}%\",\n",
    "                            (bbox[0],bbox[1]-10),cv2.FONT_HERSHEY_COMPLEX,\n",
    "                            .4,(255,0,255),1)\n",
    "        return img,bboxs\n",
    "        "
   ]
  }
 ],
 "metadata": {
  "kernelspec": {
   "display_name": "Python 3",
   "language": "python",
   "name": "python3"
  },
  "language_info": {
   "codemirror_mode": {
    "name": "ipython",
    "version": 3
   },
   "file_extension": ".py",
   "mimetype": "text/x-python",
   "name": "python",
   "nbconvert_exporter": "python",
   "pygments_lexer": "ipython3",
   "version": "3.7.6"
  }
 },
 "nbformat": 4,
 "nbformat_minor": 4
}
