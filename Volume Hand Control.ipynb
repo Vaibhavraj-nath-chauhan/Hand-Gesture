{
 "cells": [
  {
   "cell_type": "code",
   "execution_count": 1,
   "metadata": {},
   "outputs": [],
   "source": [
    "import cv2\n",
    "import numpy as np\n",
    "import HandTrackingModule as htm\n",
    "import math\n",
    "from ctypes import cast, POINTER\n",
    "from comtypes import CLSCTX_ALL\n",
    "from pycaw.pycaw import AudioUtilities, IAudioEndpointVolume"
   ]
  },
  {
   "cell_type": "code",
   "execution_count": 2,
   "metadata": {},
   "outputs": [],
   "source": [
    "wCam, hCam = 640,480\n",
    "cam = cv2.VideoCapture(0)\n",
    "cam.set(3,wCam)\n",
    "cam.set(4,hCam)\n",
    "detector = htm.handDetector(detectionCon=0.6)\n",
    "\n",
    "##############################\n",
    "\n",
    "devices = AudioUtilities.GetSpeakers()\n",
    "interface = devices.Activate(\n",
    "    IAudioEndpointVolume._iid_, CLSCTX_ALL, None)\n",
    "volume = cast(interface, POINTER(IAudioEndpointVolume))\n",
    "#volume.GetMute()\n",
    "#volume.GetMasterVolumeLevel()\n",
    "volRange = volume.GetVolumeRange()\n",
    "\n",
    "minVol = volRange[0]\n",
    "maxVol = volRange[1]\n",
    "##############################\n",
    "\n",
    "volBar = 400\n",
    "volPer =0\n",
    "\n",
    "while True:\n",
    "    _ , img = cam.read()\n",
    "    img = detector.findHands(img)\n",
    "    lmList = detector.findPosition(img,draw=False)\n",
    "    if len(lmList)!=0:\n",
    "        x1,y1 = lmList[4][1],lmList[4][2]\n",
    "        x2,y2 = lmList[8][1],lmList[8][2]\n",
    "        cx,cy = (x1+x2)//2 , (y1+y2)//2\n",
    "        \n",
    "        cv2.circle(img,(x1,y1),10,(255,0,255),cv2.FILLED)\n",
    "        cv2.circle(img,(x2,y2),10,(255,0,255),cv2.FILLED)\n",
    "        cv2.line(img,(x1,y1),(x2,y2),(255,0,255),3)\n",
    "        cv2.circle(img,(cx,cy),10,(255,0,255),cv2.FILLED)\n",
    "        lenght = math.hypot(x2-x1,y2-y1)\n",
    "        \n",
    "        #Hand range 30 to 150\n",
    "        #Volume range -65 to 0\n",
    "        vol = np.interp(lenght,[30,150],[minVol,maxVol])\n",
    "        volBar = int(np.interp(lenght,[30,150],[400,150]))\n",
    "        volPer = int(np.interp(lenght,[30,150],[0,100]))\n",
    "        volume.SetMasterVolumeLevel(vol, None)\n",
    "        if lenght<30:\n",
    "            cv2.circle(img,(cx,cy),10,(0,255,0),cv2.FILLED)\n",
    "        if lenght>150:\n",
    "            cv2.circle(img,(cx,cy),10,(0,0,255),cv2.FILLED)\n",
    "            \n",
    "    cv2.rectangle(img,(50,150),(85,400),(0,255,0),3)\n",
    "    cv2.rectangle(img,(50,volBar),(85,400),(0,255,0),cv2.FILLED)\n",
    "    cv2.putText(img,str(volPer),(40,50),cv2.FONT_HERSHEY_COMPLEX,1,(255,0,0),0)       \n",
    "        \n",
    "    \n",
    "    \n",
    "    cv2.imshow(\"img\",img)\n",
    "    if cv2.waitKey(1) ==13:\n",
    "        break\n",
    "cv2.destroyAllWindows()\n",
    "cam.release()"
   ]
  },
  {
   "cell_type": "code",
   "execution_count": null,
   "metadata": {},
   "outputs": [],
   "source": []
  },
  {
   "cell_type": "code",
   "execution_count": null,
   "metadata": {},
   "outputs": [],
   "source": []
  }
 ],
 "metadata": {
  "kernelspec": {
   "display_name": "Python 3",
   "language": "python",
   "name": "python3"
  },
  "language_info": {
   "codemirror_mode": {
    "name": "ipython",
    "version": 3
   },
   "file_extension": ".py",
   "mimetype": "text/x-python",
   "name": "python",
   "nbconvert_exporter": "python",
   "pygments_lexer": "ipython3",
   "version": "3.7.6"
  }
 },
 "nbformat": 4,
 "nbformat_minor": 4
}
