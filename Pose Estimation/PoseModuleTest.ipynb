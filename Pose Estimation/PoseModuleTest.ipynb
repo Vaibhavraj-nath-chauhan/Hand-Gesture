{
 "cells": [
  {
   "cell_type": "code",
   "execution_count": 1,
   "metadata": {},
   "outputs": [],
   "source": [
    "import cv2\n",
    "import mediapipe as mp\n"
   ]
  },
  {
   "cell_type": "code",
   "execution_count": 2,
   "metadata": {},
   "outputs": [],
   "source": [
    "class poseDetector():\n",
    "    def __init__(self,mode=False,upBody=1,smooth=True,detectionCon=0.5,trackCon=0.5):\n",
    "        self.mode = mode\n",
    "        self.upBody = upBody\n",
    "        self.smooth = smooth\n",
    "        self.detectionCon = detectionCon\n",
    "        self.trackCon = trackCon\n",
    "        \n",
    "        self.mpPose = mp.solutions.pose\n",
    "        self.pose = self.mpPose.Pose(self.mode,self.upBody,self.smooth,self.detectionCon,self.trackCon)\n",
    "        self.mpDraw = mp.solutions.drawing_utils\n",
    "    \n",
    "    def findPose(self,img,draw=True):\n",
    "        imgRGB = cv2.cvtColor(img,cv2.COLOR_BGR2RGB)\n",
    "        self.results = self.pose.process(imgRGB)\n",
    "        if self.results.pose_landmarks:\n",
    "            if draw:\n",
    "                self.mpDraw.draw_landmarks(img,self.results.pose_landmarks,self.mpPose.POSE_CONNECTIONS)\n",
    "        return img\n",
    "    \n",
    "    def getPosition(self,img,draw=True):\n",
    "        lmList=[]\n",
    "        if self.results.pose_landmarks:\n",
    "        \n",
    "            for id,lm in enumerate(self.results.pose_landmarks.landmark):\n",
    "                h,w,c = img.shape\n",
    "                cx,cy = int(lm.x*w) , int(lm.y*h)\n",
    "                lmList.append([id,cx,cy])\n",
    "                if draw:\n",
    "                    cv2.circle(img,(cx,cy),2,(255,0,0),cv2.FILLED)\n",
    "\n",
    "        return lmList\n",
    "                    \n",
    "                \n",
    "        \n",
    "        \n",
    "        \n",
    "        "
   ]
  },
  {
   "cell_type": "code",
   "execution_count": 6,
   "metadata": {},
   "outputs": [],
   "source": [
    "def main():\n",
    "    cam = cv2.VideoCapture(\"PoseVideos/1.mp4\")\n",
    "    detector = poseDetector()\n",
    "    \n",
    "    while True:\n",
    "        temp ,img = cam.read()\n",
    "        if temp:\n",
    "            img = cv2.resize(img,(720,560))\n",
    "            img = detector.findPose(img)\n",
    "            lmList = detector.getPosition(img)\n",
    "            cv2.imshow(\"image\",img)\n",
    "            if cv2.waitKey(1)==13:\n",
    "                break\n",
    "            \n",
    "        else:\n",
    "            break\n",
    "    cv2.destroyAllWindows()\n",
    "        "
   ]
  },
  {
   "cell_type": "code",
   "execution_count": 7,
   "metadata": {},
   "outputs": [],
   "source": [
    "if __name__ == \"__main__\":\n",
    "    main()"
   ]
  },
  {
   "cell_type": "code",
   "execution_count": null,
   "metadata": {},
   "outputs": [],
   "source": []
  }
 ],
 "metadata": {
  "kernelspec": {
   "display_name": "Python 3",
   "language": "python",
   "name": "python3"
  },
  "language_info": {
   "codemirror_mode": {
    "name": "ipython",
    "version": 3
   },
   "file_extension": ".py",
   "mimetype": "text/x-python",
   "name": "python",
   "nbconvert_exporter": "python",
   "pygments_lexer": "ipython3",
   "version": "3.7.6"
  }
 },
 "nbformat": 4,
 "nbformat_minor": 4
}
