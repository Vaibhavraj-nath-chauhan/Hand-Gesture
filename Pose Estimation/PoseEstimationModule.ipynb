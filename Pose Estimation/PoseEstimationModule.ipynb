{
 "cells": [
  {
   "cell_type": "code",
   "execution_count": null,
   "metadata": {},
   "outputs": [],
   "source": [
    "import cv2\n",
    "import mediapipe as mp\n",
    "class poseDetector():                      \n",
    "    def __init__(self,mode=False,upBody=1,smooth=True,detectionCon=0.5,trackCon=0.5):    #Default paramets which are are part of pose function\n",
    "        self.mode = mode\n",
    "        self.upBody = upBody\n",
    "        self.smooth = smooth\n",
    "        self.detectionCon = detectionCon\n",
    "        self.trackCon = trackCon\n",
    "        \n",
    "        self.mpPose = mp.solutions.pose                                       #Calling pose function\n",
    "        self.pose = self.mpPose.Pose(self.mode,                               #passing default paraments\n",
    "                                     self.upBody,self.smooth,\n",
    "                                     self.detectionCon,\n",
    "                                     self.trackCon)\n",
    "        self.mpDraw = mp.solutions.drawing_utils                              #calling drawing function\n",
    "     \n",
    "    def findPose(self,img,draw=True):                                         #creating a function which will find landmarks and draw them\n",
    "        imgRGB = cv2.cvtColor(img,cv2.COLOR_BGR2RGB)                          #coverting our img to RGB as mediapipe only take RGB    \n",
    "        self.results = self.pose.process(imgRGB)                              #processing our image for landmakrds\n",
    "        if self.results.pose_landmarks:                                       #if we get the landmars we draw it \n",
    "            if draw:                                                                                   \n",
    "                self.mpDraw.draw_landmarks(img,\n",
    "                                           self.results.pose_landmarks,       #this will dwar points in connected manner \n",
    "                                           self.mpPose.POSE_CONNECTIONS)\n",
    "        return img                                                            #returning our image\n",
    "     #there are total of 32 landmarks which will be fetched by our module\n",
    "    def getPosition(self,img,draw=True):                                      #Now we will fetch the lanmrks for further use \n",
    "        lmList=[]                                                             #creating a list to fetch all the landmarks\n",
    "        if self.results.pose_landmarks:\n",
    "        \n",
    "            for id,lm in enumerate(self.results.pose_landmarks.landmark):     #looping landmarks list\n",
    "                h,w,c = img.shape                                         \n",
    "                cx,cy = int(lm.x*w) , int(lm.y*h)                             #those ladnmakrs are in decimel hence we are conveting it into image shape points\n",
    "                lmList.append([id,cx,cy])                                     #append it to our list with given landmarks position as it starts with 0 to 31 \n",
    "                if draw:                                                      #if we want to check we can give it a try\n",
    "                    cv2.circle(img,(cx,cy),2,(255,0,0),cv2.FILLED)            \n",
    " \n",
    "       return lmList                                                          #returning list of landmarks"
   ]
  }
 ],
 "metadata": {
  "kernelspec": {
   "display_name": "Python 3",
   "language": "python",
   "name": "python3"
  },
  "language_info": {
   "codemirror_mode": {
    "name": "ipython",
    "version": 3
   },
   "file_extension": ".py",
   "mimetype": "text/x-python",
   "name": "python",
   "nbconvert_exporter": "python",
   "pygments_lexer": "ipython3",
   "version": "3.7.6"
  }
 },
 "nbformat": 4,
 "nbformat_minor": 4
}
