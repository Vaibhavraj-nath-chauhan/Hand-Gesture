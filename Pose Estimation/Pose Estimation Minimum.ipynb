{
 "cells": [
  {
   "cell_type": "code",
   "execution_count": 103,
   "metadata": {},
   "outputs": [],
   "source": [
    "import cv2\n",
    "import mediapipe as mp"
   ]
  },
  {
   "cell_type": "code",
   "execution_count": 110,
   "metadata": {},
   "outputs": [],
   "source": [
    "mpPose = mp.solutions.pose\n",
    "pose = mpPose.Pose()\n",
    "mpDraw = mp.solutions.drawing_utils"
   ]
  },
  {
   "cell_type": "code",
   "execution_count": 111,
   "metadata": {},
   "outputs": [],
   "source": [
    "cam = cv2.VideoCapture(\"PoseVideos/1.mp4\")\n",
    "while True:\n",
    "    _,img = cam.read()\n",
    "    if _:\n",
    "        imgRGB = cv2.cvtColor(img,cv2.COLOR_BGR2RGB) \n",
    "        results = pose.process(imgRGB)\n",
    "        if results.pose_landmarks:\n",
    "            mpDraw.draw_landmarks(img,results.pose_landmarks,mpPose.POSE_CONNECTIONS)\n",
    "            for id,lm in enumerate(results.pose_landmarks.landmark):\n",
    "                h,w,c = img.shape\n",
    "                cx,cy = int(lm.x*w) , int(lm.y*h)\n",
    "                cv2.circle(img,(cx,cy),10,(255,0,0),cv2.FILLED)\n",
    "                \n",
    "        img = cv2.resize(img,(1500,780))\n",
    "        cv2.imshow(\"Image\",img)\n",
    "        if cv2.waitKey(2) ==13:\n",
    "            break\n",
    "    else:\n",
    "        break\n",
    "cv2.destroyAllWindows()\n",
    "cam.release()"
   ]
  },
  {
   "cell_type": "code",
   "execution_count": null,
   "metadata": {},
   "outputs": [],
   "source": []
  }
 ],
 "metadata": {
  "kernelspec": {
   "display_name": "Python 3",
   "language": "python",
   "name": "python3"
  },
  "language_info": {
   "codemirror_mode": {
    "name": "ipython",
    "version": 3
   },
   "file_extension": ".py",
   "mimetype": "text/x-python",
   "name": "python",
   "nbconvert_exporter": "python",
   "pygments_lexer": "ipython3",
   "version": "3.7.6"
  }
 },
 "nbformat": 4,
 "nbformat_minor": 4
}
